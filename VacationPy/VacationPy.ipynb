{
 "cells": [
  {
   "cell_type": "code",
   "execution_count": 10,
   "metadata": {},
   "outputs": [],
   "source": [
    "%matplotlib notebook\n",
    "%matplotlib inline\n",
    "\n",
    "# Dependencies\n",
    "import pandas as pd\n",
    "import matplotlib.pyplot as plt\n",
    "import requests\n",
    "import json\n",
    "import time\n",
    "import gmaps\n",
    "\n",
    "# Google developer API key \n",
    "from config import gkey\n",
    "gmaps.configure(api_key=gkey)\n"
   ]
  },
  {
   "cell_type": "code",
   "execution_count": 11,
   "metadata": {},
   "outputs": [],
   "source": [
    "#Import csv from WeatherPy assignment\n",
    "df2 = pd.read_csv('../WeatherPy/WeatherPY_Data.csv')"
   ]
  },
  {
   "cell_type": "code",
   "execution_count": 30,
   "metadata": {},
   "outputs": [
    {
     "data": {
      "text/plain": [
       "(587, 10)"
      ]
     },
     "execution_count": 30,
     "metadata": {},
     "output_type": "execute_result"
    }
   ],
   "source": [
    "df2.shape\n",
    "#df2.head()"
   ]
  },
  {
   "cell_type": "code",
   "execution_count": 15,
   "metadata": {},
   "outputs": [
    {
     "data": {
      "application/vnd.jupyter.widget-view+json": {
       "model_id": "7d4a5ef45f204aa5b99f8819e3dffa5e",
       "version_major": 2,
       "version_minor": 0
      },
      "text/plain": [
       "Figure(layout=FigureLayout(height='420px'))"
      ]
     },
     "metadata": {},
     "output_type": "display_data"
    }
   ],
   "source": [
    "#Create a heat map that displays the humidity for every city from the part I of the homework.\n",
    "\n",
    "# Store 'Lat' and 'Lng' into  locations \n",
    "locations = df2[['act_lat', 'act_lng']].astype(float)\n",
    "\n",
    "# Convert Humidity to float and store\n",
    "humidity = df2['Humidity_Perc'].astype(float)\n",
    "\n",
    "fig = gmaps.figure()\n",
    "\n",
    "heat_layer = gmaps.heatmap_layer(locations, weights=humidity, \n",
    "                                 dissipating=False, max_intensity=100, point_radius = 1)\n",
    "fig.add_layer(heat_layer)\n",
    "\n",
    "fig\n"
   ]
  },
  {
   "cell_type": "code",
   "execution_count": 78,
   "metadata": {},
   "outputs": [],
   "source": [
    "#Create dataframe with perferred weather conditions\n",
    "df3 = df2[(df2.Temperature_F >= 70) & (df2.Temperature_F < 80) & (df2.Humidity_Perc <= 61)].copy()\n"
   ]
  },
  {
   "cell_type": "code",
   "execution_count": 89,
   "metadata": {},
   "outputs": [
    {
     "name": "stdout",
     "output_type": "stream",
     "text": [
      "hotel response for hilo in 0.413013 seconds\n",
      "hotel response for busselton in 0.229238 seconds\n",
      "hotel response for northam in 0.493792 seconds\n",
      "hotel response for busselton in 0.26252 seconds\n",
      "hotel response for busselton in 0.24478 seconds\n",
      "hotel response for pisco in 0.355018 seconds\n",
      "hotel response for northam in 0.314996 seconds\n",
      "hotel response for busselton in 0.215119 seconds\n",
      "Response error for tessalit skipping. status = ZERO_RESULTS\n",
      "hotel response for busselton in 0.244935 seconds\n",
      "hotel response for pisco in 0.23436 seconds\n",
      "hotel response for rawson in 0.325636 seconds\n",
      "hotel response for busselton in 0.325235 seconds\n",
      "Response error for san luis skipping. status = ZERO_RESULTS\n",
      "hotel response for busselton in 0.212795 seconds\n",
      "hotel response for busselton in 0.333376 seconds\n",
      "hotel response for busselton in 0.23197 seconds\n",
      "hotel response for tacuarembo in 0.304099 seconds\n",
      "hotel response for tuatapere in 0.193988 seconds\n",
      "hotel response for busselton in 0.232855 seconds\n",
      "hotel response for busselton in 0.228477 seconds\n",
      "hotel response for kisangani in 0.233034 seconds\n",
      "hotel response for ranfurly in 0.226391 seconds\n",
      "Response error for yangambi skipping. status = ZERO_RESULTS\n",
      "hotel response for busselton in 0.386063 seconds\n",
      "hotel response for tuatapere in 0.189768 seconds\n",
      "hotel response for bluff in 0.23942 seconds\n",
      "hotel response for tuatapere in 0.250881 seconds\n",
      "hotel response for busselton in 0.207916 seconds\n"
     ]
    }
   ],
   "source": [
    "# find first hotel in each preferred city (df2) and add to dataframe\n",
    "df3['Hotel_Name'] = ''\n",
    "\n",
    "base_url = \"https://maps.googleapis.com/maps/api/place/nearbysearch/json\"\n",
    "params = {\n",
    "    'rankby': 'distance',\n",
    "    'type': 'lodging',\n",
    "    'key': gkey,\n",
    "}\n",
    "\n",
    "for index, row in df3.iterrows():\n",
    "\n",
    "    # add location to params dict\n",
    "    lat = row['act_lat']\n",
    "    lng = row['act_lng']\n",
    "    coords = (f'{lat},{lng}')\n",
    "    params['location'] = coords\n",
    "    \n",
    "    #vars for output reporting\n",
    "    city  = row['Nearest_City']\n",
    "\n",
    "    # build response object\n",
    "    response = requests.get(base_url, params=params)\n",
    "    response_json = response.json()\n",
    "    response_time = response.elapsed.total_seconds()\n",
    "\n",
    "    try:\n",
    "       df3.loc[index, ['Hotel_Name']] = response_json['results'][0]['name'] #hotel name\n",
    "       response_time = response.elapsed.total_seconds()\n",
    "       print(f'hotel response for {city} in {response_time} seconds')\n",
    "\n",
    "      \n",
    "    except (KeyError, IndexError):\n",
    "        status = response_json['status']\n",
    "        print(f'Response error for {city} skipping. status = {status}')\n",
    "        \n",
    "\n",
    "    time.sleep(response.elapsed.total_seconds())\n"
   ]
  },
  {
   "cell_type": "code",
   "execution_count": 109,
   "metadata": {},
   "outputs": [
    {
     "data": {
      "application/vnd.jupyter.widget-view+json": {
       "model_id": "8459d96dfe6b44b0a17499537ae175b8",
       "version_major": 2,
       "version_minor": 0
      },
      "text/plain": [
       "Figure(layout=FigureLayout(height='420px'))"
      ]
     },
     "metadata": {},
     "output_type": "display_data"
    }
   ],
   "source": [
    "#Create Symbol GMAP for hotels in citys with perfered weather df3\n",
    "\n",
    "preferred_locations = df3[['act_lat', 'act_lng']].astype(float)\n",
    "hotel_names = df3['Hotel_Name'].tolist()\n",
    "humidity = df3['Humidity_Perc'].astype(float)\n",
    "\n",
    "fig = gmaps.figure()\n",
    "\n",
    "marker_layer = gmaps.marker_layer(preferred_locations, display_info_box = True, info_box_content = hotel_names)\n",
    "\n",
    "heat_layer = gmaps.heatmap_layer(preferred_locations, weights=humidity)\n",
    "\n",
    "fig.add_layer(marker_layer)\n",
    "fig.add_layer(heat_layer)\n",
    "\n",
    "fig\n",
    "\n",
    "\n"
   ]
  },
  {
   "cell_type": "code",
   "execution_count": null,
   "metadata": {},
   "outputs": [],
   "source": []
  }
 ],
 "metadata": {
  "kernelspec": {
   "display_name": "Python 3",
   "language": "python",
   "name": "python3"
  },
  "language_info": {
   "codemirror_mode": {
    "name": "ipython",
    "version": 3
   },
   "file_extension": ".py",
   "mimetype": "text/x-python",
   "name": "python",
   "nbconvert_exporter": "python",
   "pygments_lexer": "ipython3",
   "version": "3.6.9"
  }
 },
 "nbformat": 4,
 "nbformat_minor": 2
}
