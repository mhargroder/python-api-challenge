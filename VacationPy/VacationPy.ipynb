{
 "cells": [
  {
   "cell_type": "code",
   "execution_count": 1,
   "metadata": {},
   "outputs": [],
   "source": [
    "%matplotlib notebook\n",
    "%matplotlib inline\n",
    "\n",
    "# Dependencies\n",
    "import pandas as pd\n",
    "import matplotlib.pyplot as plt\n",
    "import requests\n",
    "import json\n",
    "import time\n",
    "import gmaps\n",
    "\n",
    "# Google developer API key \n",
    "from config import gkey\n",
    "gmaps.configure(api_key=gkey)\n"
   ]
  },
  {
   "cell_type": "code",
   "execution_count": 2,
   "metadata": {},
   "outputs": [],
   "source": [
    "#Import csv from WeatherPy assignment\n",
    "df2 = pd.read_csv('../WeatherPy/WeatherPY_Data.csv')"
   ]
  },
  {
   "cell_type": "code",
   "execution_count": 3,
   "metadata": {},
   "outputs": [
    {
     "data": {
      "application/vnd.jupyter.widget-view+json": {
       "model_id": "759d8f132a2049009cf2460c4aff8d02",
       "version_major": 2,
       "version_minor": 0
      },
      "text/plain": [
       "Figure(layout=FigureLayout(height='420px'))"
      ]
     },
     "metadata": {},
     "output_type": "display_data"
    }
   ],
   "source": [
    "#Create a heat map that displays the humidity for every city from the part I of the homework.\n",
    "\n",
    "# Store 'Lat' and 'Lng' into  locations \n",
    "locations = df2[['act_lat', 'act_lng']].astype(float)\n",
    "\n",
    "# Convert Humidity to float and store\n",
    "humidity = df2['Humidity_Perc'].astype(float)\n",
    "\n",
    "fig = gmaps.figure()\n",
    "\n",
    "heat_layer = gmaps.heatmap_layer(locations, weights=humidity, \n",
    "                                 dissipating=False, max_intensity=100, point_radius = 1)\n",
    "fig.add_layer(heat_layer)\n",
    "\n",
    "fig\n"
   ]
  },
  {
   "cell_type": "code",
   "execution_count": 4,
   "metadata": {},
   "outputs": [],
   "source": [
    "#Create dataframe with perferred weather conditions\n",
    "df3 = df2[(df2.Temperature_F >= 70) & (df2.Temperature_F < 80) & (df2.Humidity_Perc <= 61)].copy()\n"
   ]
  },
  {
   "cell_type": "code",
   "execution_count": 5,
   "metadata": {},
   "outputs": [
    {
     "name": "stdout",
     "output_type": "stream",
     "text": [
      "hotel response for tuatapere in 0.52251 seconds\n",
      "hotel response for teknaf in 0.451611 seconds\n",
      "hotel response for santiago del estero in 0.48001 seconds\n",
      "hotel response for puerto ayora in 0.456009 seconds\n",
      "hotel response for parana in 0.441095 seconds\n",
      "hotel response for opuwo in 0.390391 seconds\n",
      "hotel response for nasirabad in 0.394573 seconds\n",
      "hotel response for mount gambier in 0.460659 seconds\n",
      "hotel response for makokou in 0.375689 seconds\n",
      "hotel response for makakilo city in 0.552483 seconds\n",
      "hotel response for launceston in 0.558626 seconds\n",
      "hotel response for deori khas in 0.429301 seconds\n",
      "hotel response for cidreira in 0.421996 seconds\n",
      "Response error for boende skipping. status = ZERO_RESULTS\n",
      "hotel response for bluff in 0.336549 seconds\n",
      "hotel response for albany in 0.415488 seconds\n"
     ]
    }
   ],
   "source": [
    "# find first hotel in each preferred city (df2) and add to dataframe\n",
    "df3['Hotel_Name'] = ''\n",
    "\n",
    "base_url = \"https://maps.googleapis.com/maps/api/place/nearbysearch/json\"\n",
    "params = {\n",
    "    'rankby': 'distance',\n",
    "    'type': 'lodging',\n",
    "    'key': gkey,\n",
    "}\n",
    "\n",
    "for index, row in df3.iterrows():\n",
    "\n",
    "    # add location to params dict\n",
    "    lat = row['act_lat']\n",
    "    lng = row['act_lng']\n",
    "    coords = (f'{lat},{lng}')\n",
    "    params['location'] = coords\n",
    "    \n",
    "    #vars for output reporting\n",
    "    city  = row['Nearest_City']\n",
    "\n",
    "    # build response object\n",
    "    response = requests.get(base_url, params=params)\n",
    "    response_json = response.json()\n",
    "    response_time = response.elapsed.total_seconds()\n",
    "\n",
    "    try:\n",
    "       df3.loc[index, ['Hotel_Name']] = response_json['results'][0]['name'] #hotel name\n",
    "       response_time = response.elapsed.total_seconds()\n",
    "       print(f'hotel response for {city} in {response_time} seconds')\n",
    "\n",
    "      \n",
    "    except (KeyError, IndexError):\n",
    "        status = response_json['status']\n",
    "        print(f'Response error for {city} skipping. status = {status}')\n",
    "        \n",
    "\n",
    "    time.sleep(response.elapsed.total_seconds())\n"
   ]
  },
  {
   "cell_type": "code",
   "execution_count": 6,
   "metadata": {},
   "outputs": [
    {
     "data": {
      "application/vnd.jupyter.widget-view+json": {
       "model_id": "f13faba9219b484ea8ae5a27001e4547",
       "version_major": 2,
       "version_minor": 0
      },
      "text/plain": [
       "Figure(layout=FigureLayout(height='420px'))"
      ]
     },
     "metadata": {},
     "output_type": "display_data"
    }
   ],
   "source": [
    "#Create Symbol GMAP for hotels in citys with perfered weather df3\n",
    "\n",
    "preferred_locations = df3[['act_lat', 'act_lng']].astype(float)\n",
    "hotel_names = df3['Hotel_Name'].tolist()\n",
    "humidity = df3['Humidity_Perc'].astype(float)\n",
    "\n",
    "fig = gmaps.figure()\n",
    "\n",
    "marker_layer = gmaps.marker_layer(preferred_locations, display_info_box = True, info_box_content = hotel_names)\n",
    "\n",
    "heat_layer = gmaps.heatmap_layer(preferred_locations, weights=humidity)\n",
    "\n",
    "fig.add_layer(marker_layer)\n",
    "fig.add_layer(heat_layer)\n",
    "\n",
    "fig\n",
    "\n",
    "\n"
   ]
  },
  {
   "cell_type": "code",
   "execution_count": null,
   "metadata": {},
   "outputs": [],
   "source": []
  }
 ],
 "metadata": {
  "kernelspec": {
   "display_name": "Python 3",
   "language": "python",
   "name": "python3"
  },
  "language_info": {
   "codemirror_mode": {
    "name": "ipython",
    "version": 3
   },
   "file_extension": ".py",
   "mimetype": "text/x-python",
   "name": "python",
   "nbconvert_exporter": "python",
   "pygments_lexer": "ipython3",
   "version": "3.6.9"
  }
 },
 "nbformat": 4,
 "nbformat_minor": 2
}
